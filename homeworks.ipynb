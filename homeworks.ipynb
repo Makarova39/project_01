{
  "nbformat": 4,
  "nbformat_minor": 0,
  "metadata": {
    "colab": {
      "provenance": [],
      "toc_visible": true,
      "authorship_tag": "ABX9TyPa4wI4xiCleuZ1szakbYCH",
      "include_colab_link": true
    },
    "kernelspec": {
      "name": "python3",
      "display_name": "Python 3"
    },
    "language_info": {
      "name": "python"
    }
  },
  "cells": [
    {
      "cell_type": "markdown",
      "metadata": {
        "id": "view-in-github",
        "colab_type": "text"
      },
      "source": [
        "<a href=\"https://colab.research.google.com/github/Makarova39/project_01/blob/main/homeworks.ipynb\" target=\"_parent\"><img src=\"https://colab.research.google.com/assets/colab-badge.svg\" alt=\"Open In Colab\"/></a>"
      ]
    },
    {
      "cell_type": "code",
      "source": [
        "# Задача 1.1.\n",
        "\n",
        "# Есть строка с перечислением песен\n",
        "\n",
        "my_favorite_songs = 'Waste a Moment, Staying\\' Alive, A Sorta Fairytale, Start Me Up, New Salvation'\n",
        "\n",
        "# Выведите на консоль с помощью индексации строки, последовательно: первый трек, последний, второй, второй с конца\n",
        "# Нельзя переопределять my_favorite_songs и запятая не должна выводиться.12545\n",
        "print(f'первый трек {my_favorite_songs[0:14]}')\n",
        "print(f'последний трек {my_favorite_songs[-13:-1]}')\n",
        "print(f'второй трек {my_favorite_songs[16:30]}')\n",
        "print(f'второй трек в конца {my_favorite_songs[-26:-15]}')"
      ],
      "metadata": {
        "id": "EFzk2qevXlmi",
        "colab": {
          "base_uri": "https://localhost:8080/"
        },
        "outputId": "34f7406f-c560-495e-b591-2bfb798db30d"
      },
      "execution_count": 1,
      "outputs": [
        {
          "output_type": "stream",
          "name": "stdout",
          "text": [
            "первый трек Waste a Moment\n",
            "последний трек New Salvatio\n",
            "второй трек Staying' Alive\n",
            "второй трек в конца Start Me Up\n"
          ]
        }
      ]
    },
    {
      "cell_type": "code",
      "source": [
        "# Задача 1.2.\n",
        "\n",
        "# Пункт A.\n",
        "# Приведем плейлист песен в виде списка списков\n",
        "# Список my_favorite_songs содержит список названий и длительности каждого трека\n",
        "# Выведите общее время звучания трех случайных песен в формате\n",
        "# Три песни звучат ХХХ минут\n",
        "\n",
        "import random\n",
        "\n",
        "\n",
        "my_favorite_songs = [\n",
        "    ['Waste a Moment', 3.03],\n",
        "    ['New Salvation', 4.02],\n",
        "    ['Staying\\' Alive', 3.40],\n",
        "    ['Out of Touch', 3.03],\n",
        "    ['A Sorta Fairytale', 5.28],\n",
        "    ['Easy', 4.15],\n",
        "    ['Beautiful Day', 4.04],\n",
        "    ['Nowhere to Run', 2.58],\n",
        "    ['In This World', 4.02],\n",
        "]\n",
        "\n",
        "list1 = random.choices(my_favorite_songs, k = 3)\n",
        "\n",
        "sum = 0\n",
        "\n",
        "for i in list1:\n",
        " \n",
        "  sum += i[1]\n",
        "\n",
        "print(f'общее время звучания трех случайных песен - {sum} минут')\n",
        "\n",
        "# Пункт B.\n",
        "# Есть словарь песен\n",
        "# Распечатайте общее время звучания трех случайных песен\n",
        "# Вывод: Три песни звучат ХХХ минут.\n",
        "\n",
        "my_favorite_songs_dict = {\n",
        "    'Waste a Moment': 3.03,\n",
        "    'New Salvation': 4.02,\n",
        "    'Staying\\' Alive': 3.40,\n",
        "    'Out of Touch': 3.03,\n",
        "    'A Sorta Fairytale': 5.28,\n",
        "    'Easy': 4.15,\n",
        "    'Beautiful Day': 4.04,\n",
        "    'Nowhere to Run': 2.58,\n",
        "    'In This World': 4.02,\n",
        "}\n",
        "\n",
        "\n",
        "data = random.choices(list(my_favorite_songs_dict.values()), k = 3)\n",
        "#print(data)\n",
        "sum = 0\n",
        "\n",
        "for i in data:\n",
        "  \n",
        "  sum += i\n",
        "\n",
        "print(f'общее время звучания трех случайных песен - {sum} минут')\n",
        "\n",
        "# Дополнительно для пунктов A и B\n",
        "# Пункт C.\n",
        "# Сгенерируйте случайные песни с помощью модуля random\n",
        "# import random\n",
        "\n",
        "# Дополнительно\n",
        "# Пункт D.\n",
        "# Переведите минуты и секунды в формат времени. Используйте модуль datetime"
      ],
      "metadata": {
        "colab": {
          "base_uri": "https://localhost:8080/"
        },
        "id": "JETGl9mXZZ2D",
        "outputId": "7556047a-bc63-476d-bc34-5c1005df67d7"
      },
      "execution_count": 3,
      "outputs": [
        {
          "output_type": "stream",
          "name": "stdout",
          "text": [
            "общее время звучания трех случайных песен - 13.469999999999999 минут\n",
            "общее время звучания трех случайных песен - 12.459999999999999 минут\n"
          ]
        }
      ]
    },
    {
      "cell_type": "code",
      "source": [
        "# Задача 1.3.\n",
        "\n",
        "# Напишите скрипт, который принимает от пользователя номер месяца, \n",
        "# а возвращает количество дней в нем.\n",
        "# Результат проверки вывести на консоль\n",
        "# Допущение: в феврале 28 дней\n",
        "# Если номер месяца некорректен - сообщить об этом\n",
        "\n",
        "# Например,\n",
        "    # Введите номер месяца: 3\n",
        "    # Вы ввели март. 31 дней\n",
        "\n",
        "    # Введите номер месяца: 2\n",
        "    # Вы ввели февраль. 28 дней\n",
        "\n",
        "    # Введите номер месяца: 15\n",
        "    # Такого месяца нет!\n",
        "month = {\n",
        "    1: ['январь', 31],\n",
        "    2: ['февраль', 28],\n",
        "    3: ['март', 31],\n",
        "    4: ['апрель', 30],\n",
        "    5: ['май', 31],\n",
        "    6: ['июнь', 30],\n",
        "    7: ['июль', 31],\n",
        "    8: ['август', 31],\n",
        "    9: ['сентябрь', 30],\n",
        "    10: ['октябрь', 31],\n",
        "    11: ['ноябрь', 30],\n",
        "    12: ['декабрь', 31]\n",
        "}\n",
        "\n",
        "while True:\n",
        "  number = int(input('Введите номер месяца '))\n",
        "  if number < 1 or number > 12:\n",
        "    print('Такого месяца нет!')\n",
        "    continue\n",
        "  break\n",
        "\n",
        "days_month = month[number]\n",
        "\n",
        "print(f'Вы ввели {days_month[0]}. {days_month[1]} дней')"
      ],
      "metadata": {
        "colab": {
          "base_uri": "https://localhost:8080/"
        },
        "id": "8PCjko49Z535",
        "outputId": "625363b8-3aca-4267-8641-9032b83c6e89"
      },
      "execution_count": 4,
      "outputs": [
        {
          "output_type": "stream",
          "name": "stdout",
          "text": [
            "Введите номер месяца 8\n",
            "Вы ввели август. 31 дней\n"
          ]
        }
      ]
    },
    {
      "cell_type": "code",
      "source": [
        "# Задача 1.4.\n",
        "\n",
        "# Есть словарь кодов товаров titles\n",
        "\n",
        "titles = {\n",
        "    'Кроссовки тип 3 (Adidas)': '100000110',\n",
        "    'Мячик тип 2 (Adidas)': '100000146',\n",
        "    'Кепка тип 1 (Adidas)': '100000149',\n",
        "    'Ремень тип 2 (Nike)': '100000194',\n",
        "    'Футболка тип 1 (Adidas)': '100000224',\n",
        "    'Шапка тип 5 (Puma)': '100000280',\n",
        "}\n",
        "\n",
        "# Товары находятся на складе и сохранены в виде словаря списков словарей,\n",
        "# которые отражают количество товаров в магазине по каждому коду.\n",
        "\n",
        "store = {\n",
        "    '100000110': [{'quantity': 31, 'price': 1637}],\n",
        "    '100000146': [ {'quantity': 4, 'price': 45}, {'quantity': 10, 'price': 48}],\n",
        "    '100000149': [ {'quantity': 28, 'price': 279}, {'quantity': 32, 'price': 291}],\n",
        "    '100000194': [{'quantity': 8, 'price': 220}, {'quantity': 1, 'price': 170}],\n",
        "    '100000224': [{'quantity': 61, 'price': 438}, {'quantity': 23, 'price': 302},  {'quantity': 50, 'price': 412}],\n",
        "    '100000280': [{'quantity': 26, 'price': 175}, ]\n",
        "}\n",
        "\n",
        "# Рассчитайте на какую сумму лежит каждого товара на складе.\n",
        "#\n",
        "# Вывести суммарную стоимость каждого товара в магазине в формате:\n",
        "# \"<товар> - <кол-во> шт, стоимость <общая стоимость> руб\"\n",
        "\n",
        "# Пример: \"Кроссовки тип 3 (Adidas) - 31 шт, стоимость 50747 руб\"\n",
        "\n",
        "tit = []\n",
        "name = []\n",
        "\n",
        "for i in titles:\n",
        "    name.append(i)\n",
        "    a = titles[i]\n",
        "    tit.append(a)\n",
        "\n",
        "index = -1\n",
        "for k in tit:\n",
        "    store_dict = store[k]\n",
        "    quantity = 0\n",
        "    price = 0\n",
        "    index += 1\n",
        "    for g in store_dict:\n",
        "        quantity = g['quantity']\n",
        "        price = g['price']\n",
        "        a = quantity * price\n",
        "        print(f'{name[index]} - {quantity} шт, стоимость {a}')"
      ],
      "metadata": {
        "colab": {
          "base_uri": "https://localhost:8080/"
        },
        "id": "ZFP9NV8-abhk",
        "outputId": "4cfdbefd-ac5d-425a-b17a-479d1a8d3a8f"
      },
      "execution_count": 5,
      "outputs": [
        {
          "output_type": "stream",
          "name": "stdout",
          "text": [
            "Кроссовки тип 3 (Adidas) - 31 шт, стоимость 50747\n",
            "Мячик тип 2 (Adidas) - 4 шт, стоимость 180\n",
            "Мячик тип 2 (Adidas) - 10 шт, стоимость 480\n",
            "Кепка тип 1 (Adidas) - 28 шт, стоимость 7812\n",
            "Кепка тип 1 (Adidas) - 32 шт, стоимость 9312\n",
            "Ремень тип 2 (Nike) - 8 шт, стоимость 1760\n",
            "Ремень тип 2 (Nike) - 1 шт, стоимость 170\n",
            "Футболка тип 1 (Adidas) - 61 шт, стоимость 26718\n",
            "Футболка тип 1 (Adidas) - 23 шт, стоимость 6946\n",
            "Футболка тип 1 (Adidas) - 50 шт, стоимость 20600\n",
            "Шапка тип 5 (Puma) - 26 шт, стоимость 4550\n"
          ]
        }
      ]
    },
    {
      "cell_type": "code",
      "source": [
        "# Задача 2.1. \n",
        "\n",
        "# Создайте две функции maximum и minimum,\n",
        "# которые получают список целых чисел в качестве входных данных \n",
        "# и возвращают наибольшее и наименьшее число в этом списке соответственно.\n",
        "# Например,\n",
        "# * [4,6,2,1,9,63,-134,566]         -> max = 566, min = -134\n",
        "# * [-52, 56, 30, 29, -54, 0, -110] -> min = -110, max = 56\n",
        "# * [42, 54, 65, 87, 0]             -> min = 0, max = 87\n",
        "# * [5]                             -> min = 5, max = 5\n",
        "# функции sorted, max и min использовать нельзя!\n",
        "\n",
        "def minimum(ar):\n",
        "    min = 0\n",
        "    for i in range(0, len(ar)):\n",
        "        if i == 7:\n",
        "            return min\n",
        "        if ar[i] < ar[i+1]:\n",
        "            min = ar[i]\n",
        "        else:\n",
        "            min = ar[i+1]\n",
        "\n",
        "    return min\n",
        "\n",
        "def maximum(ar):\n",
        "    max = 0\n",
        "    for i in range(0, len(ar)):\n",
        "        if i == 7:\n",
        "            return max\n",
        "        elif ar[i] > ar[i + 1]:\n",
        "            max = ar[i]\n",
        "        else:\n",
        "            max = ar[i + 1]\n",
        "\n",
        "\n",
        "list_number = [4,6,2,1,9,63,-134,566]\n",
        "print(f'max = {maximum(list_number)}, min = {minimum(list_number)}')"
      ],
      "metadata": {
        "colab": {
          "base_uri": "https://localhost:8080/"
        },
        "id": "-EG2d-U8aksS",
        "outputId": "8b838762-4e55-4227-d8f6-0aed93b4557b"
      },
      "execution_count": 6,
      "outputs": [
        {
          "output_type": "stream",
          "name": "stdout",
          "text": [
            "max = 566, min = -134\n"
          ]
        }
      ]
    },
    {
      "cell_type": "code",
      "source": [
        "# Задача 2.2. \n",
        "\n",
        "# Напишите функцию, которая возвращает номер квартал по номеру месяца\n",
        "# Например: \n",
        "# месяц 2 (февраль) является частью первого квартала; \n",
        "# месяц 6 (июнь) является частью второго квартала; \n",
        "# месяц 11 (ноябрь) является частью четвертого квартала.\n",
        "\n",
        "def quarter_of(m):\n",
        "    month = {\n",
        "        1: ['январь', 1],\n",
        "        2: ['февраль', 1],\n",
        "        3: ['март', 1],\n",
        "        4: ['апрель', 2],\n",
        "        5: ['май', 2],\n",
        "        6: ['июнь', 2],\n",
        "        7: ['июль', 3],\n",
        "        8: ['август', 3],\n",
        "        9: ['сентябрь', 3],\n",
        "        10: ['октябрь', 4],\n",
        "        11: ['ноябрь', 4],\n",
        "        12: ['декабрь', 4]\n",
        "    }\n",
        "    d = month[m]\n",
        "\n",
        "    return d\n",
        "\n",
        "kvar = int(input())\n",
        "print(f'месяц {kvar} ({quarter_of(kvar)[0]}) является частью {quarter_of(kvar)[1]} квартала.')"
      ],
      "metadata": {
        "colab": {
          "base_uri": "https://localhost:8080/"
        },
        "id": "PhZargSca56b",
        "outputId": "7b07b158-816b-43c9-cebb-418a6fcceb82"
      },
      "execution_count": 7,
      "outputs": [
        {
          "output_type": "stream",
          "name": "stdout",
          "text": [
            "9\n",
            "месяц 9 (сентябрь) является частью 3 квартала.\n"
          ]
        }
      ]
    },
    {
      "cell_type": "code",
      "source": [
        "# Задача 2.3.\n",
        "\n",
        "# Напишите функцию, которая принимает цифры от 0 до 9 и возвращает значение прописью.\n",
        "# Например,\n",
        "# switch_it_up(1) -> 'One'\n",
        "# switch_it_up(3) -> 'Three'\n",
        "# switch_it_up(10000) -> None\n",
        "# Использовать условный оператор if-elif-else нельзя!\n",
        "\n",
        "def switch_it_up(number):\n",
        "    p = {\n",
        "        1: 'One',\n",
        "        2: 'Two',\n",
        "        3: 'Three',\n",
        "        4: 'Four',\n",
        "        5: 'Five',\n",
        "        6: 'Six',\n",
        "        7: 'Seven',\n",
        "        8: 'Eight',\n",
        "        9: 'Nine',\n",
        "        0: 'Zero'\n",
        "    }\n",
        "\n",
        "    return p[number]\n",
        "\n",
        "n = int(input())\n",
        "print(switch_it_up(n))"
      ],
      "metadata": {
        "colab": {
          "base_uri": "https://localhost:8080/"
        },
        "id": "S3s1_N9ZbGTk",
        "outputId": "260a1c7d-b6ff-4801-e133-6e509cf3ce2b"
      },
      "execution_count": 8,
      "outputs": [
        {
          "output_type": "stream",
          "name": "stdout",
          "text": [
            "8\n",
            "Eight\n"
          ]
        }
      ]
    },
    {
      "cell_type": "code",
      "source": [
        "# Задача 2.4.\n",
        "\n",
        "# Пункт A.\n",
        "# Напишите функцию, которая удаляет все восклицательные знаки из заданной строк.\n",
        "# Например,\n",
        "# foo(\"Hi! Hello!\") -> \"Hi Hello\"\n",
        "# foo(\"\") -> \"\"\n",
        "# foo(\"Oh, no!!!\") -> \"Oh, no\"\n",
        "\n",
        "def remove_exclamation_marks(s):\n",
        "    for i in s:\n",
        "        if i == \"!\":\n",
        "            s = s.replace('!', '')\n",
        "    return s\n",
        "\n",
        "str1 = 'Hi! Hello!'\n",
        "print(f'OLD - {str1}\\nNEW - {remove_exclamation_marks(str1)}')\n",
        "\n",
        "\n",
        "# Пункт B.\n",
        "# Удалите восклицательный знак из конца строки. \n",
        "# remove(\"Hi!\") == \"Hi\"\n",
        "# remove(\"Hi!!!\") == \"Hi!!\"\n",
        "# remove(\"!Hi\") == \"!Hi\"\n",
        "\n",
        "def remove_last_em(s):\n",
        "    if s[-1] == '!':\n",
        "        s = s.replace(s[-1], '')\n",
        "    return s\n",
        "\n",
        "str2 = 'Hi!'\n",
        "print(f'OLD - {str2}\\nNEW - {remove_last_em(str2)}')\n",
        "\n",
        "\n",
        "# Дополнительно\n",
        "\n",
        "# Пункт С.\n",
        "# Удалите слова из предложения, если они содержат ровно один восклицательный знак.\n",
        "# Слова разделены одним пробелом.\n",
        "# Например,\n",
        "# remove(\"Hi!\") === \"\"\n",
        "# remove(\"Hi! Hi!\") === \"\"\n",
        "# remove(\"Hi! Hi! Hi!\") === \"\"\n",
        "# remove(\"Hi Hi! Hi!\") === \"Hi\"\n",
        "# remove(\"Hi! !Hi Hi!\") === \"\"\n",
        "# remove(\"Hi! Hi!! Hi!\") === \"Hi!!\"\n",
        "# remove(\"Hi! !Hi! Hi!\") === \"!Hi!\"\n",
        "\n",
        "def remove_word_with_one_em(s):\n",
        "    s = s.split()\n",
        "    for i in s:\n",
        "        a = 0\n",
        "        for k in i:\n",
        "            if k == '!':\n",
        "                a += 1\n",
        "        if a == 1:\n",
        "            s.remove(i)\n",
        "\n",
        "    str = ''\n",
        "    for h in s:\n",
        "        str += h + ' '\n",
        "\n",
        "    return str\n",
        "\n",
        "str3 = 'Hi! !Hi! Hi! Hi! !Hi'\n",
        "print(f'OLD - {str3}\\nNEW - {remove_word_with_one_em(str3)}')"
      ],
      "metadata": {
        "colab": {
          "base_uri": "https://localhost:8080/"
        },
        "id": "iMVzbFCGbN9s",
        "outputId": "92dbc543-ce66-4c76-f2fb-07893fad7491"
      },
      "execution_count": 9,
      "outputs": [
        {
          "output_type": "stream",
          "name": "stdout",
          "text": [
            "OLD - Hi! Hello!\n",
            "NEW - Hi Hello\n",
            "OLD - Hi!\n",
            "NEW - Hi\n",
            "OLD - Hi! !Hi! Hi! Hi! !Hi\n",
            "NEW - !Hi! Hi! \n"
          ]
        }
      ]
    },
    {
      "cell_type": "code",
      "source": [
        "# 202, Петр, 2\n",
        "# 203, Анастасия, 3\n",
        "# 204, Игорь, 4\n",
        "import sqlite3\n",
        "\n",
        "data_base = sqlite3.connect('teacher') \n",
        "cur = data_base.cursor()\n",
        "\n",
        "cur.execute('CREATE TABLE IF NOT EXISTS Students (Student_Id INTEGER NOT NULL, \\\n",
        "Student_Name TEXT NOT NULL, School_Id INTEGER NOT NULL PRIMARY KEY);') \n",
        "data_base.commit()\n",
        "\n",
        "def add(Student_Id, Student_Name, School_Id):\n",
        "  cur.execute('INSERT INTO Students VALUES ({}, \"{}\", {})'.format(Student_Id, Student_Name, School_Id))\n",
        "  data_base.commit()\n",
        "\n",
        "add(201, 'Иван', 1)\n",
        "add(202, \"Петр\", 2)\n",
        "add(203, \"Анастасия\", 3)\n",
        "add(204, \"Игорь\", 4)\n",
        "\n",
        "# Напишите программу, с помощью которой по ID студента можно получать информацию о школе и студенте.\n",
        "\n",
        "\n",
        "# ID Студента:\n",
        "# Имя студента:\n",
        "# ID школы:\n",
        "# Название школы:\n",
        "# Название школы:\n",
        "\n",
        "def get_student_info(student_id):\n",
        "    cur.execute(\"SELECT Student_name, School_Id FROM Students WHERE Student_Id=?\", (student_id,))\n",
        "    student_info = cur.fetchone()\n",
        "    return student_info\n",
        "\n",
        "student_id = 204\n",
        "student_info = get_student_info(student_id)\n",
        "print(f\"ID Студента: {student_id}\\nИмя студента: {student_info[0]}\\nID школы: {student_info[1]}\")"
      ],
      "metadata": {
        "colab": {
          "base_uri": "https://localhost:8080/"
        },
        "id": "PsmRpI2ne2J8",
        "outputId": "5e0710d4-0a8d-414a-d666-60838ec6eeaf"
      },
      "execution_count": 12,
      "outputs": [
        {
          "output_type": "stream",
          "name": "stdout",
          "text": [
            "ID Студента: 204\n",
            "Имя студента: Игорь\n",
            "ID школы: 4\n"
          ]
        }
      ]
    }
  ]
}